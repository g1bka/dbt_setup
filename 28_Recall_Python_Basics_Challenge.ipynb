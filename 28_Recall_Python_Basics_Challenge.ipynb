{
  "nbformat": 4,
  "nbformat_minor": 0,
  "metadata": {
    "kernelspec": {
      "display_name": "Python 3",
      "language": "python",
      "name": "python3"
    },
    "language_info": {
      "codemirror_mode": {
        "name": "ipython",
        "version": 3
      },
      "file_extension": ".py",
      "mimetype": "text/x-python",
      "name": "python",
      "nbconvert_exporter": "python",
      "pygments_lexer": "ipython3",
      "version": "3.8.0"
    },
    "colab": {
      "provenance": [],
      "collapsed_sections": [
        "9HkYCn8-gfhK",
        "0uUn8_engfhV",
        "9Si0OEPDgfh4"
      ],
      "include_colab_link": true
    }
  },
  "cells": [
    {
      "cell_type": "markdown",
      "metadata": {
        "id": "view-in-github",
        "colab_type": "text"
      },
      "source": [
        "<a href=\"https://colab.research.google.com/github/g1bka/gz-dbt-repository/blob/dbt-demo/28_Recall_Python_Basics_Challenge.ipynb\" target=\"_parent\"><img src=\"https://colab.research.google.com/assets/colab-badge.svg\" alt=\"Open In Colab\"/></a>"
      ]
    },
    
    {
      "cell_type": "markdown",
      "metadata": {
        "id": "b8BkIRvbgfgq"
      },
      "source": [
        "# Recall Python Basics"
      ]
    },
    {
      "cell_type": "markdown",
      "metadata": {
        "id": "uLh5qevGgfgt"
      },
      "source": [
        "### Basic initialisations"
      ]
    },
    {
      "cell_type": "markdown",
      "metadata": {
        "id": "puantXVYgfgu"
      },
      "source": [
        "a) Initialise two variables : `a` equals to 5 and `b` equals to 20"
      ]
    },
    {
      "cell_type": "code",
      "metadata": {
        "id": "sF4QvrE3gfgv"
      },
      "source": [],
      "execution_count": null,
      "outputs": []
    },
    {
      "cell_type": "markdown",
      "metadata": {
        "id": "IX3l0HbFgfgz"
      },
      "source": [
        "b) Display the value of `a`"
      ]
    },
    {
      "cell_type": "code",
      "metadata": {
        "id": "uhr5YhUqgfg0"
      },
      "source": [],
      "execution_count": null,
      "outputs": []
    },
    {
      "cell_type": "markdown",
      "metadata": {
        "id": "1umKra8tgfg3"
      },
      "source": [
        "c) Change value of `a` to 7"
      ]
    },
    {
      "cell_type": "code",
      "metadata": {
        "id": "8SUVSVJvgfg3"
      },
      "source": [],
      "execution_count": null,
      "outputs": []
    },
    {
      "cell_type": "markdown",
      "metadata": {
        "id": "OuNWNUDxgfg5"
      },
      "source": [
        "d) Display the new value of `a`"
      ]
    },
    {
      "cell_type": "code",
      "metadata": {
        "id": "VURDnYTEgfg6"
      },
      "source": [],
      "execution_count": null,
      "outputs": []
    },
    {
      "cell_type": "markdown",
      "metadata": {
        "id": "OArRQEQAgfg9"
      },
      "source": [
        "e) Create a new variable `d` equals to the product of variables `a` and `b`. What is the type of `d`?"
      ]
    },
    {
      "cell_type": "code",
      "metadata": {
        "id": "mPlfd9pygfg9"
      },
      "source": [],
      "execution_count": null,
      "outputs": []
    },
    {
      "cell_type": "markdown",
      "source": [
        "f) We want to switch values between `a` and `b`. How do you proceed ? Think of introducing new elements..."
      ],
      "metadata": {
        "id": "rK5fjaH-L1aI"
      }
    },
    {
      "cell_type": "code",
      "source": [],
      "metadata": {
        "id": "2vn3T7vnL0vV"
      },
      "execution_count": null,
      "outputs": []
    },
    {
      "cell_type": "markdown",
      "metadata": {
        "id": "9HkYCn8-gfhK"
      },
      "source": [
        "### Create conditions"
      ]
    },
    {
      "cell_type": "markdown",
      "metadata": {
        "id": "3CA4tS8xgfhK"
      },
      "source": [
        "a) Create a new variable `e` equal to 20 and create a condition that will display \"strictly greater than 5\" if this variable is indeed strictly greater than 5.\n",
        "\n",
        "Look at your course to see how the syntax of a condition is written."
      ]
    },
    {
      "cell_type": "code",
      "metadata": {
        "id": "1aZVTunYgfhL"
      },
      "source": [],
      "execution_count": null,
      "outputs": []
    },
    {
      "cell_type": "markdown",
      "metadata": {
        "id": "F5D575_UgfhN"
      },
      "source": [
        "b) Complete the previous code to show \"less than or equal to 5\" if not. Test your code on several values of `e`."
      ]
    },
    {
      "cell_type": "code",
      "metadata": {
        "id": "ewKuD1GegfhN"
      },
      "source": [],
      "execution_count": null,
      "outputs": []
    },
    {
      "cell_type": "markdown",
      "metadata": {
        "id": "3IcJv8ZugfhQ"
      },
      "source": [
        "c) Complete the previous code to display \"equal to 5\" if e is 5. Test your code on several values of e.\n",
        "\n",
        "Take a good look at the writing of the elif in your course."
      ]
    },
    {
      "cell_type": "code",
      "metadata": {
        "id": "TEFg-9cQgfhQ"
      },
      "source": [],
      "execution_count": null,
      "outputs": []
    },
    {
      "cell_type": "markdown",
      "metadata": {
        "id": "0uUn8_engfhV"
      },
      "source": [
        "### Lists"
      ]
    },
    {
      "cell_type": "markdown",
      "metadata": {
        "id": "05Cny4N0gfhW"
      },
      "source": [
        "a) Create a list `list_example` of values 3, 5, 12, 7, 4 and 36"
      ]
    },
    {
      "cell_type": "code",
      "metadata": {
        "id": "A-xynbVrgfhW",
        "colab": {
          "base_uri": "https://localhost:8080/"
        },
        "outputId": "21acf44c-dd1c-4922-df7a-d8ec98286b0b"
      },
      "source": [
        "list_example = []\n",
        "list_example"
      ],
      "execution_count": null,
      "outputs": [
        {
          "output_type": "execute_result",
          "data": {
            "text/plain": [
              "[]"
            ]
          },
          "metadata": {},
          "execution_count": 3
        }
      ]
    },
    {
      "cell_type": "markdown",
      "source": [
        "Now append the value 2 to the list."
      ],
      "metadata": {
        "id": "dCkg6gDEoiE8"
      }
    },
    {
      "cell_type": "code",
      "source": [],
      "metadata": {
        "colab": {
          "base_uri": "https://localhost:8080/"
        },
        "id": "RPkbdEa0M29k",
        "outputId": "3bc10867-e346-4237-a733-ac9c41790b86"
      },
      "execution_count": null,
      "outputs": [
        {
          "output_type": "execute_result",
          "data": {
            "text/plain": [
              "[2]"
            ]
          },
          "metadata": {},
          "execution_count": 4
        }
      ]
    },
    {
      "cell_type": "markdown",
      "metadata": {
        "id": "9bXWlkyFXT7R"
      },
      "source": [
        "b) Display the length of `list_example`"
      ]
    },
    {
      "cell_type": "code",
      "metadata": {
        "id": "L242S9u1XTDy",
        "colab": {
          "base_uri": "https://localhost:8080/"
        },
        "outputId": "705e729f-b679-497f-aa1b-459c41764424"
      },
      "source": [],
      "execution_count": null,
      "outputs": [
        {
          "output_type": "execute_result",
          "data": {
            "text/plain": [
              "2"
            ]
          },
          "metadata": {},
          "execution_count": 5
        }
      ]
    },
    {
      "cell_type": "code",
      "source": [],
      "metadata": {
        "colab": {
          "base_uri": "https://localhost:8080/"
        },
        "id": "bp55VoqwNWyl",
        "outputId": "e36a15cc-3626-4afb-c7af-c523a9b92f0e"
      },
      "execution_count": null,
      "outputs": [
        {
          "output_type": "execute_result",
          "data": {
            "text/plain": [
              "[]"
            ]
          },
          "metadata": {},
          "execution_count": 6
        }
      ]
    },
    {
      "cell_type": "markdown",
      "metadata": {
        "id": "yCK7BoLngfhY"
      },
      "source": [
        "c) Display the first element of the list"
      ]
    },
    {
      "cell_type": "code",
      "metadata": {
        "id": "6EDt1uzPgfhZ"
      },
      "source": [],
      "execution_count": null,
      "outputs": []
    },
    {
      "cell_type": "markdown",
      "metadata": {
        "id": "6-rcsIs3gfhb"
      },
      "source": [
        "d) Change the third item in the list to 17 and display the modified list"
      ]
    },
    {
      "cell_type": "code",
      "metadata": {
        "id": "YVjIgfCggfhb"
      },
      "source": [],
      "execution_count": null,
      "outputs": []
    },
    {
      "cell_type": "markdown",
      "metadata": {
        "id": "seRp-HCVgfhd"
      },
      "source": [
        "e) With a loop, display the elements of the list one below the other that are multiples of 4.\n",
        "\n",
        "You can write the following condition `val % 4 == 0` to test if the variable `val` is a multiple of 4.\n",
        "\n",
        "The `%` sign in Python refers to the modulo. We test if the remainder of the division of val by 4 is 0 or not."
      ]
    },
    {
      "cell_type": "code",
      "metadata": {
        "id": "ySIh95NJgfhd"
      },
      "source": [],
      "execution_count": null,
      "outputs": []
    },
    {
      "cell_type": "markdown",
      "metadata": {
        "id": "iJFK8LYdgfh1"
      },
      "source": [
        "f) Add 296 to the list `list_example`.\n",
        "\n",
        "Display the updated list"
      ]
    },
    {
      "cell_type": "code",
      "metadata": {
        "id": "DNLOFRgqRAA3"
      },
      "source": [],
      "execution_count": null,
      "outputs": []
    },
    {
      "cell_type": "markdown",
      "metadata": {
        "id": "9Si0OEPDgfh4"
      },
      "source": [
        "### Dictionaries"
      ]
    },
    {
      "cell_type": "markdown",
      "metadata": {
        "id": "eUo9-cq6gfh5"
      },
      "source": [
        "a) Run the code below to initialise the dictionary."
      ]
    },
    {
      "cell_type": "code",
      "metadata": {
        "id": "fUI43nW6gfh5"
      },
      "source": [
        "dict_example = {\n",
        "    \"A\": \"car\",\n",
        "    \"B\": 2,\n",
        "    \"C\": \"bike\"\n",
        "}"
      ],
      "execution_count": null,
      "outputs": []
    },
    {
      "cell_type": "markdown",
      "metadata": {
        "id": "OYLVzSnbgfh7"
      },
      "source": [
        "b) Display the dictionary keys"
      ]
    },
    {
      "cell_type": "code",
      "metadata": {
        "id": "GPPj9rfjgfh8"
      },
      "source": [],
      "execution_count": null,
      "outputs": []
    },
    {
      "cell_type": "markdown",
      "metadata": {
        "id": "HaXlNHP2gfh-"
      },
      "source": [
        "c) Display the value of the \"C\" key"
      ]
    },
    {
      "cell_type": "code",
      "metadata": {
        "id": "NzwdGO61gfh_"
      },
      "source": [],
      "execution_count": null,
      "outputs": []
    },
    {
      "cell_type": "markdown",
      "metadata": {
        "id": "D-8UIuGLgfiB"
      },
      "source": [
        "d) Add a new key \"D\" containing 8. Display the dictionary to check the result."
      ]
    },
    {
      "cell_type": "code",
      "metadata": {
        "id": "bymhvLxqgfiC"
      },
      "source": [],
      "execution_count": null,
      "outputs": []
    }
  ]
}
